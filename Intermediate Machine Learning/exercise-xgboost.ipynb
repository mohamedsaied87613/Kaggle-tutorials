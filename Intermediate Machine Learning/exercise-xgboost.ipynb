{
 "cells": [
  {
   "cell_type": "markdown",
   "id": "aeb343c8",
   "metadata": {
    "papermill": {
     "duration": 0.006895,
     "end_time": "2022-07-07T01:54:34.939387",
     "exception": false,
     "start_time": "2022-07-07T01:54:34.932492",
     "status": "completed"
    },
    "tags": []
   },
   "source": [
    "**This notebook is an exercise in the [Intermediate Machine Learning](https://www.kaggle.com/learn/intermediate-machine-learning) course.  You can reference the tutorial at [this link](https://www.kaggle.com/alexisbcook/xgboost).**\n",
    "\n",
    "---\n"
   ]
  },
  {
   "cell_type": "markdown",
   "id": "804da26e",
   "metadata": {
    "papermill": {
     "duration": 0.005464,
     "end_time": "2022-07-07T01:54:34.950718",
     "exception": false,
     "start_time": "2022-07-07T01:54:34.945254",
     "status": "completed"
    },
    "tags": []
   },
   "source": [
    "In this exercise, you will use your new knowledge to train a model with **gradient boosting**.\n",
    "\n",
    "# Setup\n",
    "\n",
    "The questions below will give you feedback on your work. Run the following cell to set up the feedback system."
   ]
  },
  {
   "cell_type": "code",
   "execution_count": 1,
   "id": "e183970c",
   "metadata": {
    "execution": {
     "iopub.execute_input": "2022-07-07T01:54:34.964487Z",
     "iopub.status.busy": "2022-07-07T01:54:34.963783Z",
     "iopub.status.idle": "2022-07-07T01:54:38.267341Z",
     "shell.execute_reply": "2022-07-07T01:54:38.266475Z"
    },
    "papermill": {
     "duration": 3.314905,
     "end_time": "2022-07-07T01:54:38.271309",
     "exception": false,
     "start_time": "2022-07-07T01:54:34.956404",
     "status": "completed"
    },
    "tags": []
   },
   "outputs": [
    {
     "name": "stdout",
     "output_type": "stream",
     "text": [
      "Setup Complete\n"
     ]
    }
   ],
   "source": [
    "# Set up code checking\n",
    "import os\n",
    "if not os.path.exists(\"../input/train.csv\"):\n",
    "    os.symlink(\"../input/home-data-for-ml-course/train.csv\", \"../input/train.csv\")  \n",
    "    os.symlink(\"../input/home-data-for-ml-course/test.csv\", \"../input/test.csv\") \n",
    "from learntools.core import binder\n",
    "binder.bind(globals())\n",
    "from learntools.ml_intermediate.ex6 import *\n",
    "print(\"Setup Complete\")"
   ]
  },
  {
   "cell_type": "markdown",
   "id": "d7cc809c",
   "metadata": {
    "papermill": {
     "duration": 0.006653,
     "end_time": "2022-07-07T01:54:38.286251",
     "exception": false,
     "start_time": "2022-07-07T01:54:38.279598",
     "status": "completed"
    },
    "tags": []
   },
   "source": [
    "You will work with the [Housing Prices Competition for Kaggle Learn Users](https://www.kaggle.com/c/home-data-for-ml-course) dataset from the previous exercise. \n",
    "\n",
    "![Ames Housing dataset image](https://i.imgur.com/lTJVG4e.png)\n",
    "\n",
    "Run the next code cell without changes to load the training and validation sets in `X_train`, `X_valid`, `y_train`, and `y_valid`.  The test set is loaded in `X_test`."
   ]
  },
  {
   "cell_type": "code",
   "execution_count": 2,
   "id": "afeb9b79",
   "metadata": {
    "execution": {
     "iopub.execute_input": "2022-07-07T01:54:38.304430Z",
     "iopub.status.busy": "2022-07-07T01:54:38.303694Z",
     "iopub.status.idle": "2022-07-07T01:54:38.494545Z",
     "shell.execute_reply": "2022-07-07T01:54:38.493461Z"
    },
    "papermill": {
     "duration": 0.202321,
     "end_time": "2022-07-07T01:54:38.497192",
     "exception": false,
     "start_time": "2022-07-07T01:54:38.294871",
     "status": "completed"
    },
    "tags": []
   },
   "outputs": [],
   "source": [
    "import pandas as pd\n",
    "from sklearn.model_selection import train_test_split\n",
    "\n",
    "# Read the data\n",
    "X = pd.read_csv('../input/train.csv', index_col='Id')\n",
    "X_test_full = pd.read_csv('../input/test.csv', index_col='Id')\n",
    "\n",
    "# Remove rows with missing target, separate target from predictors\n",
    "X.dropna(axis=0, subset=['SalePrice'], inplace=True)\n",
    "y = X.SalePrice              \n",
    "X.drop(['SalePrice'], axis=1, inplace=True)\n",
    "\n",
    "# Break off validation set from training data\n",
    "X_train_full, X_valid_full, y_train, y_valid = train_test_split(X, y, train_size=0.8, test_size=0.2,\n",
    "                                                                random_state=0)\n",
    "\n",
    "# \"Cardinality\" means the number of unique values in a column\n",
    "# Select categorical columns with relatively low cardinality (convenient but arbitrary)\n",
    "low_cardinality_cols = [cname for cname in X_train_full.columns if X_train_full[cname].nunique() < 10 and \n",
    "                        X_train_full[cname].dtype == \"object\"]\n",
    "\n",
    "# Select numeric columns\n",
    "numeric_cols = [cname for cname in X_train_full.columns if X_train_full[cname].dtype in ['int64', 'float64']]\n",
    "\n",
    "# Keep selected columns only\n",
    "my_cols = low_cardinality_cols + numeric_cols\n",
    "X_train = X_train_full[my_cols].copy()\n",
    "X_valid = X_valid_full[my_cols].copy()\n",
    "X_test = X_test_full[my_cols].copy()\n",
    "\n",
    "# One-hot encode the data (to shorten the code, we use pandas)\n",
    "X_train = pd.get_dummies(X_train)\n",
    "X_valid = pd.get_dummies(X_valid)\n",
    "X_test = pd.get_dummies(X_test)\n",
    "X_train, X_valid = X_train.align(X_valid, join='left', axis=1)\n",
    "X_train, X_test = X_train.align(X_test, join='left', axis=1)"
   ]
  },
  {
   "cell_type": "markdown",
   "id": "8c982c0a",
   "metadata": {
    "papermill": {
     "duration": 0.006627,
     "end_time": "2022-07-07T01:54:38.509688",
     "exception": false,
     "start_time": "2022-07-07T01:54:38.503061",
     "status": "completed"
    },
    "tags": []
   },
   "source": [
    "# Step 1: Build model\n",
    "\n",
    "### Part A\n",
    "\n",
    "In this step, you'll build and train your first model with gradient boosting.\n",
    "\n",
    "- Begin by setting `my_model_1` to an XGBoost model.  Use the [XGBRegressor](https://xgboost.readthedocs.io/en/latest/python/python_api.html#xgboost.XGBRegressor) class, and set the random seed to 0 (`random_state=0`).  **Leave all other parameters as default.**\n",
    "- Then, fit the model to the training data in `X_train` and `y_train`."
   ]
  },
  {
   "cell_type": "code",
   "execution_count": 3,
   "id": "6c6d9d4c",
   "metadata": {
    "execution": {
     "iopub.execute_input": "2022-07-07T01:54:38.523292Z",
     "iopub.status.busy": "2022-07-07T01:54:38.522509Z",
     "iopub.status.idle": "2022-07-07T01:54:39.449336Z",
     "shell.execute_reply": "2022-07-07T01:54:39.448224Z"
    },
    "papermill": {
     "duration": 0.936167,
     "end_time": "2022-07-07T01:54:39.451694",
     "exception": false,
     "start_time": "2022-07-07T01:54:38.515527",
     "status": "completed"
    },
    "tags": []
   },
   "outputs": [
    {
     "data": {
      "application/javascript": [
       "parent.postMessage({\"jupyterEvent\": \"custom.exercise_interaction\", \"data\": {\"outcomeType\": 1, \"valueTowardsCompletion\": 0.5, \"interactionType\": 1, \"questionType\": 2, \"questionId\": \"1.1_Model1A\", \"learnToolsVersion\": \"0.3.4\", \"failureMessage\": \"\", \"exceptionClass\": \"\", \"trace\": \"\"}}, \"*\")"
      ],
      "text/plain": [
       "<IPython.core.display.Javascript object>"
      ]
     },
     "metadata": {},
     "output_type": "display_data"
    },
    {
     "data": {
      "text/markdown": [
       "<span style=\"color:#33cc33\">Correct</span>"
      ],
      "text/plain": [
       "Correct"
      ]
     },
     "metadata": {},
     "output_type": "display_data"
    }
   ],
   "source": [
    "from xgboost import XGBRegressor\n",
    "\n",
    "# Define the model\n",
    "my_model_1 = XGBRegressor(random_state=0) # Your code here\n",
    "\n",
    "# Fit the model\n",
    "my_model_1.fit(X_train,y_train)# Your code here\n",
    "\n",
    "# Check your answer\n",
    "step_1.a.check()"
   ]
  },
  {
   "cell_type": "code",
   "execution_count": 4,
   "id": "19e0d725",
   "metadata": {
    "execution": {
     "iopub.execute_input": "2022-07-07T01:54:39.466362Z",
     "iopub.status.busy": "2022-07-07T01:54:39.465818Z",
     "iopub.status.idle": "2022-07-07T01:54:39.470654Z",
     "shell.execute_reply": "2022-07-07T01:54:39.469562Z"
    },
    "papermill": {
     "duration": 0.015026,
     "end_time": "2022-07-07T01:54:39.473319",
     "exception": false,
     "start_time": "2022-07-07T01:54:39.458293",
     "status": "completed"
    },
    "tags": []
   },
   "outputs": [],
   "source": [
    "# Lines below will give you a hint or solution code\n",
    "#step_1.a.hint()\n",
    "#step_1.a.solution()"
   ]
  },
  {
   "cell_type": "markdown",
   "id": "1d36cf48",
   "metadata": {
    "papermill": {
     "duration": 0.007164,
     "end_time": "2022-07-07T01:54:39.487480",
     "exception": false,
     "start_time": "2022-07-07T01:54:39.480316",
     "status": "completed"
    },
    "tags": []
   },
   "source": [
    "### Part B\n",
    "\n",
    "Set `predictions_1` to the model's predictions for the validation data.  Recall that the validation features are stored in `X_valid`."
   ]
  },
  {
   "cell_type": "code",
   "execution_count": 5,
   "id": "ad67cd64",
   "metadata": {
    "execution": {
     "iopub.execute_input": "2022-07-07T01:54:39.504317Z",
     "iopub.status.busy": "2022-07-07T01:54:39.503928Z",
     "iopub.status.idle": "2022-07-07T01:54:39.534607Z",
     "shell.execute_reply": "2022-07-07T01:54:39.533750Z"
    },
    "papermill": {
     "duration": 0.042482,
     "end_time": "2022-07-07T01:54:39.537392",
     "exception": false,
     "start_time": "2022-07-07T01:54:39.494910",
     "status": "completed"
    },
    "tags": []
   },
   "outputs": [
    {
     "data": {
      "application/javascript": [
       "parent.postMessage({\"jupyterEvent\": \"custom.exercise_interaction\", \"data\": {\"outcomeType\": 1, \"valueTowardsCompletion\": 0.5, \"interactionType\": 1, \"questionType\": 2, \"questionId\": \"1.2_Model1B\", \"learnToolsVersion\": \"0.3.4\", \"failureMessage\": \"\", \"exceptionClass\": \"\", \"trace\": \"\"}}, \"*\")"
      ],
      "text/plain": [
       "<IPython.core.display.Javascript object>"
      ]
     },
     "metadata": {},
     "output_type": "display_data"
    },
    {
     "data": {
      "text/markdown": [
       "<span style=\"color:#33cc33\">Correct</span>"
      ],
      "text/plain": [
       "Correct"
      ]
     },
     "metadata": {},
     "output_type": "display_data"
    }
   ],
   "source": [
    "from sklearn.metrics import mean_absolute_error\n",
    "\n",
    "# Get predictions\n",
    "predictions_1 = my_model_1.predict(X_valid) # Your code here\n",
    "\n",
    "# Check your answer\n",
    "step_1.b.check()"
   ]
  },
  {
   "cell_type": "code",
   "execution_count": 6,
   "id": "62a4449c",
   "metadata": {
    "execution": {
     "iopub.execute_input": "2022-07-07T01:54:39.554242Z",
     "iopub.status.busy": "2022-07-07T01:54:39.553863Z",
     "iopub.status.idle": "2022-07-07T01:54:39.557957Z",
     "shell.execute_reply": "2022-07-07T01:54:39.557187Z"
    },
    "papermill": {
     "duration": 0.014189,
     "end_time": "2022-07-07T01:54:39.560167",
     "exception": false,
     "start_time": "2022-07-07T01:54:39.545978",
     "status": "completed"
    },
    "tags": []
   },
   "outputs": [],
   "source": [
    "# Lines below will give you a hint or solution code\n",
    "#step_1.b.hint()\n",
    "#step_1.b.solution()"
   ]
  },
  {
   "cell_type": "markdown",
   "id": "0f0e989f",
   "metadata": {
    "papermill": {
     "duration": 0.006011,
     "end_time": "2022-07-07T01:54:39.572552",
     "exception": false,
     "start_time": "2022-07-07T01:54:39.566541",
     "status": "completed"
    },
    "tags": []
   },
   "source": [
    "### Part C\n",
    "\n",
    "Finally, use the `mean_absolute_error()` function to calculate the mean absolute error (MAE) corresponding to the predictions for the validation set.  Recall that the labels for the validation data are stored in `y_valid`."
   ]
  },
  {
   "cell_type": "code",
   "execution_count": 7,
   "id": "03d11909",
   "metadata": {
    "execution": {
     "iopub.execute_input": "2022-07-07T01:54:39.587318Z",
     "iopub.status.busy": "2022-07-07T01:54:39.586546Z",
     "iopub.status.idle": "2022-07-07T01:54:39.599803Z",
     "shell.execute_reply": "2022-07-07T01:54:39.598368Z"
    },
    "papermill": {
     "duration": 0.02319,
     "end_time": "2022-07-07T01:54:39.602066",
     "exception": false,
     "start_time": "2022-07-07T01:54:39.578876",
     "status": "completed"
    },
    "tags": []
   },
   "outputs": [
    {
     "name": "stdout",
     "output_type": "stream",
     "text": [
      "Mean Absolute Error: 17662.736729452055\n"
     ]
    },
    {
     "data": {
      "application/javascript": [
       "parent.postMessage({\"jupyterEvent\": \"custom.exercise_interaction\", \"data\": {\"outcomeType\": 1, \"valueTowardsCompletion\": 0.5, \"interactionType\": 1, \"questionType\": 2, \"questionId\": \"1.3_Model1C\", \"learnToolsVersion\": \"0.3.4\", \"failureMessage\": \"\", \"exceptionClass\": \"\", \"trace\": \"\"}}, \"*\")"
      ],
      "text/plain": [
       "<IPython.core.display.Javascript object>"
      ]
     },
     "metadata": {},
     "output_type": "display_data"
    },
    {
     "data": {
      "text/markdown": [
       "<span style=\"color:#33cc33\">Correct</span>"
      ],
      "text/plain": [
       "Correct"
      ]
     },
     "metadata": {},
     "output_type": "display_data"
    }
   ],
   "source": [
    "# Calculate MAE\n",
    "mae_1 = mean_absolute_error(y_valid,predictions_1) # Your code here\n",
    "\n",
    "# Uncomment to print MAE\n",
    "print(\"Mean Absolute Error:\" , mae_1)\n",
    "\n",
    "# Check your answer\n",
    "step_1.c.check()"
   ]
  },
  {
   "cell_type": "code",
   "execution_count": 8,
   "id": "e4d8fbc8",
   "metadata": {
    "execution": {
     "iopub.execute_input": "2022-07-07T01:54:39.617332Z",
     "iopub.status.busy": "2022-07-07T01:54:39.616877Z",
     "iopub.status.idle": "2022-07-07T01:54:39.622011Z",
     "shell.execute_reply": "2022-07-07T01:54:39.620711Z"
    },
    "papermill": {
     "duration": 0.015456,
     "end_time": "2022-07-07T01:54:39.624292",
     "exception": false,
     "start_time": "2022-07-07T01:54:39.608836",
     "status": "completed"
    },
    "tags": []
   },
   "outputs": [],
   "source": [
    "# Lines below will give you a hint or solution code\n",
    "#step_1.c.hint()\n",
    "#step_1.c.solution()"
   ]
  },
  {
   "cell_type": "markdown",
   "id": "499dd9b3",
   "metadata": {
    "papermill": {
     "duration": 0.006583,
     "end_time": "2022-07-07T01:54:39.637666",
     "exception": false,
     "start_time": "2022-07-07T01:54:39.631083",
     "status": "completed"
    },
    "tags": []
   },
   "source": [
    "# Step 2: Improve the model\n",
    "\n",
    "Now that you've trained a default model as baseline, it's time to tinker with the parameters, to see if you can get better performance!\n",
    "- Begin by setting `my_model_2` to an XGBoost model, using the [XGBRegressor](https://xgboost.readthedocs.io/en/latest/python/python_api.html#xgboost.XGBRegressor) class.  Use what you learned in the previous tutorial to figure out how to change the default parameters (like `n_estimators` and `learning_rate`) to get better results.\n",
    "- Then, fit the model to the training data in `X_train` and `y_train`.\n",
    "- Set `predictions_2` to the model's predictions for the validation data.  Recall that the validation features are stored in `X_valid`.\n",
    "- Finally, use the `mean_absolute_error()` function to calculate the mean absolute error (MAE) corresponding to the predictions on the validation set.  Recall that the labels for the validation data are stored in `y_valid`.\n",
    "\n",
    "In order for this step to be marked correct, your model in `my_model_2` must attain lower MAE than the model in `my_model_1`. "
   ]
  },
  {
   "cell_type": "code",
   "execution_count": 9,
   "id": "adee6c5c",
   "metadata": {
    "execution": {
     "iopub.execute_input": "2022-07-07T01:54:39.652616Z",
     "iopub.status.busy": "2022-07-07T01:54:39.652168Z",
     "iopub.status.idle": "2022-07-07T01:54:44.393825Z",
     "shell.execute_reply": "2022-07-07T01:54:44.392952Z"
    },
    "papermill": {
     "duration": 4.752166,
     "end_time": "2022-07-07T01:54:44.396470",
     "exception": false,
     "start_time": "2022-07-07T01:54:39.644304",
     "status": "completed"
    },
    "tags": []
   },
   "outputs": [
    {
     "name": "stdout",
     "output_type": "stream",
     "text": [
      "Mean Absolute Error: 17287.811055222603\n"
     ]
    },
    {
     "data": {
      "application/javascript": [
       "parent.postMessage({\"jupyterEvent\": \"custom.exercise_interaction\", \"data\": {\"outcomeType\": 1, \"valueTowardsCompletion\": 0.5, \"interactionType\": 1, \"questionType\": 2, \"questionId\": \"2_Model2\", \"learnToolsVersion\": \"0.3.4\", \"failureMessage\": \"\", \"exceptionClass\": \"\", \"trace\": \"\"}}, \"*\")"
      ],
      "text/plain": [
       "<IPython.core.display.Javascript object>"
      ]
     },
     "metadata": {},
     "output_type": "display_data"
    },
    {
     "data": {
      "text/markdown": [
       "<span style=\"color:#33cc33\">Correct</span>"
      ],
      "text/plain": [
       "Correct"
      ]
     },
     "metadata": {},
     "output_type": "display_data"
    }
   ],
   "source": [
    "# Define the model\n",
    "my_model_2 = XGBRegressor(random_state=0,learning_rate=0.01,n_estimators=500) # Your code here\n",
    "\n",
    "# Fit the model\n",
    "my_model_2.fit(X_train,y_train) # Your code here\n",
    "\n",
    "# Get predictions\n",
    "predictions_2 = my_model_2.predict(X_valid) # Your code here\n",
    "\n",
    "# Calculate MAE\n",
    "mae_2 = mean_absolute_error(y_valid,predictions_2) # Your code here\n",
    "\n",
    "# Uncomment to print MAE\n",
    "print(\"Mean Absolute Error:\" , mae_2)\n",
    "\n",
    "# Check your answer\n",
    "step_2.check()"
   ]
  },
  {
   "cell_type": "code",
   "execution_count": 10,
   "id": "04149268",
   "metadata": {
    "execution": {
     "iopub.execute_input": "2022-07-07T01:54:44.413317Z",
     "iopub.status.busy": "2022-07-07T01:54:44.412963Z",
     "iopub.status.idle": "2022-07-07T01:54:44.417449Z",
     "shell.execute_reply": "2022-07-07T01:54:44.416308Z"
    },
    "papermill": {
     "duration": 0.0149,
     "end_time": "2022-07-07T01:54:44.419562",
     "exception": false,
     "start_time": "2022-07-07T01:54:44.404662",
     "status": "completed"
    },
    "tags": []
   },
   "outputs": [],
   "source": [
    "# Lines below will give you a hint or solution code\n",
    "#step_2.hint()\n",
    "#step_2.solution()"
   ]
  },
  {
   "cell_type": "markdown",
   "id": "87aef3b8",
   "metadata": {
    "papermill": {
     "duration": 0.00669,
     "end_time": "2022-07-07T01:54:44.433743",
     "exception": false,
     "start_time": "2022-07-07T01:54:44.427053",
     "status": "completed"
    },
    "tags": []
   },
   "source": [
    "# Step 3: Break the model\n",
    "\n",
    "In this step, you will create a model that performs worse than the original model in Step 1.  This will help you to develop your intuition for how to set parameters.  You might even find that you accidentally get better performance, which is ultimately a nice problem to have and a valuable learning experience!\n",
    "- Begin by setting `my_model_3` to an XGBoost model, using the [XGBRegressor](https://xgboost.readthedocs.io/en/latest/python/python_api.html#xgboost.XGBRegressor) class.  Use what you learned in the previous tutorial to figure out how to change the default parameters (like `n_estimators` and `learning_rate`) to design a model to get high MAE.\n",
    "- Then, fit the model to the training data in `X_train` and `y_train`.\n",
    "- Set `predictions_3` to the model's predictions for the validation data.  Recall that the validation features are stored in `X_valid`.\n",
    "- Finally, use the `mean_absolute_error()` function to calculate the mean absolute error (MAE) corresponding to the predictions on the validation set.  Recall that the labels for the validation data are stored in `y_valid`.\n",
    "\n",
    "In order for this step to be marked correct, your model in `my_model_3` must attain higher MAE than the model in `my_model_1`. "
   ]
  },
  {
   "cell_type": "code",
   "execution_count": 11,
   "id": "6d2e240c",
   "metadata": {
    "execution": {
     "iopub.execute_input": "2022-07-07T01:54:44.449334Z",
     "iopub.status.busy": "2022-07-07T01:54:44.448686Z",
     "iopub.status.idle": "2022-07-07T01:54:44.513238Z",
     "shell.execute_reply": "2022-07-07T01:54:44.512137Z"
    },
    "papermill": {
     "duration": 0.074826,
     "end_time": "2022-07-07T01:54:44.515455",
     "exception": false,
     "start_time": "2022-07-07T01:54:44.440629",
     "status": "completed"
    },
    "tags": []
   },
   "outputs": [
    {
     "name": "stdout",
     "output_type": "stream",
     "text": [
      "Mean Absolute Error: 127895.0828807256\n"
     ]
    },
    {
     "data": {
      "application/javascript": [
       "parent.postMessage({\"jupyterEvent\": \"custom.exercise_interaction\", \"data\": {\"outcomeType\": 1, \"valueTowardsCompletion\": 0.5, \"interactionType\": 1, \"questionType\": 2, \"questionId\": \"3_Model3\", \"learnToolsVersion\": \"0.3.4\", \"failureMessage\": \"\", \"exceptionClass\": \"\", \"trace\": \"\"}}, \"*\")"
      ],
      "text/plain": [
       "<IPython.core.display.Javascript object>"
      ]
     },
     "metadata": {},
     "output_type": "display_data"
    },
    {
     "data": {
      "text/markdown": [
       "<span style=\"color:#33cc33\">Correct</span>"
      ],
      "text/plain": [
       "Correct"
      ]
     },
     "metadata": {},
     "output_type": "display_data"
    }
   ],
   "source": [
    "# Define the model\n",
    "my_model_3 =  XGBRegressor(random_state=0,n_estimators=1)\n",
    "\n",
    "# Fit the model\n",
    "my_model_3.fit(X_train,y_train) # Your code here\n",
    "\n",
    "# Get predictions\n",
    "predictions_3 = my_model_3.predict(X_valid)\n",
    "\n",
    "# Calculate MAE\n",
    "mae_3 = mean_absolute_error(y_valid,predictions_3)\n",
    "\n",
    "# Uncomment to print MAE\n",
    "print(\"Mean Absolute Error:\" , mae_3)\n",
    "\n",
    "# Check your answer\n",
    "step_3.check()"
   ]
  },
  {
   "cell_type": "code",
   "execution_count": 12,
   "id": "324e76cf",
   "metadata": {
    "execution": {
     "iopub.execute_input": "2022-07-07T01:54:44.534138Z",
     "iopub.status.busy": "2022-07-07T01:54:44.533776Z",
     "iopub.status.idle": "2022-07-07T01:54:44.538322Z",
     "shell.execute_reply": "2022-07-07T01:54:44.537122Z"
    },
    "papermill": {
     "duration": 0.016435,
     "end_time": "2022-07-07T01:54:44.540555",
     "exception": false,
     "start_time": "2022-07-07T01:54:44.524120",
     "status": "completed"
    },
    "tags": []
   },
   "outputs": [],
   "source": [
    "# Lines below will give you a hint or solution code\n",
    "#step_3.hint()\n",
    "#step_3.solution()"
   ]
  },
  {
   "cell_type": "markdown",
   "id": "f6533682",
   "metadata": {
    "papermill": {
     "duration": 0.007324,
     "end_time": "2022-07-07T01:54:44.555312",
     "exception": false,
     "start_time": "2022-07-07T01:54:44.547988",
     "status": "completed"
    },
    "tags": []
   },
   "source": [
    "# Keep going\n",
    "\n",
    "Continue to learn about **[data leakage](https://www.kaggle.com/alexisbcook/data-leakage)**.  This is an important issue for a data scientist to understand, and it has the potential to ruin your models in subtle and dangerous ways!"
   ]
  },
  {
   "cell_type": "markdown",
   "id": "ef1bf0d4",
   "metadata": {
    "papermill": {
     "duration": 0.007196,
     "end_time": "2022-07-07T01:54:44.569931",
     "exception": false,
     "start_time": "2022-07-07T01:54:44.562735",
     "status": "completed"
    },
    "tags": []
   },
   "source": [
    "---\n",
    "\n",
    "\n",
    "\n",
    "\n",
    "*Have questions or comments? Visit the [course discussion forum](https://www.kaggle.com/learn/intermediate-machine-learning/discussion) to chat with other learners.*"
   ]
  }
 ],
 "metadata": {
  "kernelspec": {
   "display_name": "Python 3",
   "language": "python",
   "name": "python3"
  },
  "language_info": {
   "codemirror_mode": {
    "name": "ipython",
    "version": 3
   },
   "file_extension": ".py",
   "mimetype": "text/x-python",
   "name": "python",
   "nbconvert_exporter": "python",
   "pygments_lexer": "ipython3",
   "version": "3.7.12"
  },
  "papermill": {
   "default_parameters": {},
   "duration": 20.064119,
   "end_time": "2022-07-07T01:54:45.299812",
   "environment_variables": {},
   "exception": null,
   "input_path": "__notebook__.ipynb",
   "output_path": "__notebook__.ipynb",
   "parameters": {},
   "start_time": "2022-07-07T01:54:25.235693",
   "version": "2.3.4"
  }
 },
 "nbformat": 4,
 "nbformat_minor": 5
}
