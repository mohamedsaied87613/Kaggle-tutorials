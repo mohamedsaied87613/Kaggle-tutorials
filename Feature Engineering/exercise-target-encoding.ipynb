{
 "cells": [
  {
   "cell_type": "markdown",
   "id": "e721446a",
   "metadata": {
    "papermill": {
     "duration": 0.008203,
     "end_time": "2022-07-07T17:00:35.797064",
     "exception": false,
     "start_time": "2022-07-07T17:00:35.788861",
     "status": "completed"
    },
    "tags": []
   },
   "source": [
    "**This notebook is an exercise in the [Feature Engineering](https://www.kaggle.com/learn/feature-engineering) course.  You can reference the tutorial at [this link](https://www.kaggle.com/ryanholbrook/target-encoding).**\n",
    "\n",
    "---\n"
   ]
  },
  {
   "cell_type": "markdown",
   "id": "e3911306",
   "metadata": {
    "papermill": {
     "duration": 0.006879,
     "end_time": "2022-07-07T17:00:35.811901",
     "exception": false,
     "start_time": "2022-07-07T17:00:35.805022",
     "status": "completed"
    },
    "tags": []
   },
   "source": [
    "# Introduction #\n",
    "\n",
    "In this exercise, you'll apply target encoding to features in the [*Ames*](https://www.kaggle.com/c/house-prices-advanced-regression-techniques/data) dataset.\n",
    "\n",
    "Run this cell to set everything up!"
   ]
  },
  {
   "cell_type": "code",
   "execution_count": 1,
   "id": "aedfb65b",
   "metadata": {
    "execution": {
     "iopub.execute_input": "2022-07-07T17:00:35.828453Z",
     "iopub.status.busy": "2022-07-07T17:00:35.827996Z",
     "iopub.status.idle": "2022-07-07T17:00:37.815108Z",
     "shell.execute_reply": "2022-07-07T17:00:37.813912Z"
    },
    "papermill": {
     "duration": 1.998989,
     "end_time": "2022-07-07T17:00:37.818058",
     "exception": false,
     "start_time": "2022-07-07T17:00:35.819069",
     "status": "completed"
    },
    "tags": []
   },
   "outputs": [],
   "source": [
    "# Setup feedback system\n",
    "from learntools.core import binder\n",
    "binder.bind(globals())\n",
    "from learntools.feature_engineering_new.ex6 import *\n",
    "\n",
    "import matplotlib.pyplot as plt\n",
    "import numpy as np\n",
    "import pandas as pd\n",
    "import seaborn as sns\n",
    "import warnings\n",
    "from category_encoders import MEstimateEncoder\n",
    "from sklearn.model_selection import cross_val_score\n",
    "from xgboost import XGBRegressor\n",
    "\n",
    "# Set Matplotlib defaults\n",
    "plt.style.use(\"seaborn-whitegrid\")\n",
    "plt.rc(\"figure\", autolayout=True)\n",
    "plt.rc(\n",
    "    \"axes\",\n",
    "    labelweight=\"bold\",\n",
    "    labelsize=\"large\",\n",
    "    titleweight=\"bold\",\n",
    "    titlesize=14,\n",
    "    titlepad=10,\n",
    ")\n",
    "warnings.filterwarnings('ignore')\n",
    "\n",
    "\n",
    "def score_dataset(X, y, model=XGBRegressor()):\n",
    "    # Label encoding for categoricals\n",
    "    for colname in X.select_dtypes([\"category\", \"object\"]):\n",
    "        X[colname], _ = X[colname].factorize()\n",
    "    # Metric for Housing competition is RMSLE (Root Mean Squared Log Error)\n",
    "    score = cross_val_score(\n",
    "        model, X, y, cv=5, scoring=\"neg_mean_squared_log_error\",\n",
    "    )\n",
    "    score = -1 * score.mean()\n",
    "    score = np.sqrt(score)\n",
    "    return score\n",
    "\n",
    "\n",
    "df = pd.read_csv(\"../input/fe-course-data/ames.csv\")"
   ]
  },
  {
   "cell_type": "markdown",
   "id": "0919881f",
   "metadata": {
    "papermill": {
     "duration": 0.006688,
     "end_time": "2022-07-07T17:00:37.831836",
     "exception": false,
     "start_time": "2022-07-07T17:00:37.825148",
     "status": "completed"
    },
    "tags": []
   },
   "source": [
    "-------------------------------------------------------------------------------\n",
    "\n",
    "First you'll need to choose which features you want to apply a target encoding to. Categorical features with a large number of categories are often good candidates. Run this cell to see how many categories each categorical feature in the *Ames* dataset has."
   ]
  },
  {
   "cell_type": "code",
   "execution_count": 2,
   "id": "0996efa4",
   "metadata": {
    "execution": {
     "iopub.execute_input": "2022-07-07T17:00:37.848289Z",
     "iopub.status.busy": "2022-07-07T17:00:37.847650Z",
     "iopub.status.idle": "2022-07-07T17:00:37.886644Z",
     "shell.execute_reply": "2022-07-07T17:00:37.885559Z"
    },
    "papermill": {
     "duration": 0.05056,
     "end_time": "2022-07-07T17:00:37.889534",
     "exception": false,
     "start_time": "2022-07-07T17:00:37.838974",
     "status": "completed"
    },
    "tags": []
   },
   "outputs": [
    {
     "data": {
      "text/plain": [
       "MSSubClass       16\n",
       "MSZoning          7\n",
       "Street            2\n",
       "Alley             3\n",
       "LotShape          4\n",
       "LandContour       4\n",
       "Utilities         3\n",
       "LotConfig         5\n",
       "LandSlope         3\n",
       "Neighborhood     28\n",
       "Condition1        9\n",
       "Condition2        8\n",
       "BldgType          5\n",
       "HouseStyle        8\n",
       "OverallQual      10\n",
       "OverallCond       9\n",
       "RoofStyle         6\n",
       "RoofMatl          8\n",
       "Exterior1st      16\n",
       "Exterior2nd      17\n",
       "MasVnrType        5\n",
       "ExterQual         4\n",
       "ExterCond         5\n",
       "Foundation        6\n",
       "BsmtQual          6\n",
       "BsmtCond          6\n",
       "BsmtExposure      5\n",
       "BsmtFinType1      7\n",
       "BsmtFinType2      7\n",
       "Heating           6\n",
       "HeatingQC         5\n",
       "CentralAir        2\n",
       "Electrical        6\n",
       "KitchenQual       5\n",
       "Functional        8\n",
       "FireplaceQu       6\n",
       "GarageType        7\n",
       "GarageFinish      4\n",
       "GarageQual        6\n",
       "GarageCond        6\n",
       "PavedDrive        3\n",
       "PoolQC            5\n",
       "Fence             5\n",
       "MiscFeature       6\n",
       "SaleType         10\n",
       "SaleCondition     6\n",
       "dtype: int64"
      ]
     },
     "execution_count": 2,
     "metadata": {},
     "output_type": "execute_result"
    }
   ],
   "source": [
    "df.select_dtypes([\"object\"]).nunique()"
   ]
  },
  {
   "cell_type": "markdown",
   "id": "f537fe32",
   "metadata": {
    "papermill": {
     "duration": 0.007312,
     "end_time": "2022-07-07T17:00:37.904056",
     "exception": false,
     "start_time": "2022-07-07T17:00:37.896744",
     "status": "completed"
    },
    "tags": []
   },
   "source": [
    "We talked about how the M-estimate encoding uses smoothing to improve estimates for rare categories. To see how many times a category occurs in the dataset, you can use the `value_counts` method. This cell shows the counts for `SaleType`, but you might want to consider others as well."
   ]
  },
  {
   "cell_type": "code",
   "execution_count": 3,
   "id": "ce5e6b9b",
   "metadata": {
    "execution": {
     "iopub.execute_input": "2022-07-07T17:00:37.921515Z",
     "iopub.status.busy": "2022-07-07T17:00:37.920914Z",
     "iopub.status.idle": "2022-07-07T17:00:37.933088Z",
     "shell.execute_reply": "2022-07-07T17:00:37.931939Z"
    },
    "papermill": {
     "duration": 0.023295,
     "end_time": "2022-07-07T17:00:37.935370",
     "exception": false,
     "start_time": "2022-07-07T17:00:37.912075",
     "status": "completed"
    },
    "tags": []
   },
   "outputs": [
    {
     "data": {
      "text/plain": [
       "WD       2536\n",
       "New       239\n",
       "COD        87\n",
       "ConLD      26\n",
       "CWD        12\n",
       "ConLI       9\n",
       "ConLw       8\n",
       "Oth         7\n",
       "Con         5\n",
       "VWD         1\n",
       "Name: SaleType, dtype: int64"
      ]
     },
     "execution_count": 3,
     "metadata": {},
     "output_type": "execute_result"
    }
   ],
   "source": [
    "df[\"SaleType\"].value_counts()"
   ]
  },
  {
   "cell_type": "markdown",
   "id": "a47aa345",
   "metadata": {
    "papermill": {
     "duration": 0.006934,
     "end_time": "2022-07-07T17:00:37.949618",
     "exception": false,
     "start_time": "2022-07-07T17:00:37.942684",
     "status": "completed"
    },
    "tags": []
   },
   "source": [
    "# 1) Choose Features for Encoding\n",
    "\n",
    "Which features did you identify for target encoding? After you've thought about your answer, run the next cell for some discussion."
   ]
  },
  {
   "cell_type": "code",
   "execution_count": 4,
   "id": "6db1cd97",
   "metadata": {
    "execution": {
     "iopub.execute_input": "2022-07-07T17:00:37.966052Z",
     "iopub.status.busy": "2022-07-07T17:00:37.965397Z",
     "iopub.status.idle": "2022-07-07T17:00:37.973417Z",
     "shell.execute_reply": "2022-07-07T17:00:37.972659Z"
    },
    "papermill": {
     "duration": 0.018423,
     "end_time": "2022-07-07T17:00:37.975300",
     "exception": false,
     "start_time": "2022-07-07T17:00:37.956877",
     "status": "completed"
    },
    "tags": []
   },
   "outputs": [
    {
     "data": {
      "application/javascript": [
       "parent.postMessage({\"jupyterEvent\": \"custom.exercise_interaction\", \"data\": {\"outcomeType\": 1, \"valueTowardsCompletion\": 0.3333333333333333, \"interactionType\": 1, \"questionType\": 4, \"questionId\": \"1_Q1\", \"learnToolsVersion\": \"0.3.4\", \"failureMessage\": \"\", \"exceptionClass\": \"\", \"trace\": \"\"}}, \"*\")"
      ],
      "text/plain": [
       "<IPython.core.display.Javascript object>"
      ]
     },
     "metadata": {},
     "output_type": "display_data"
    },
    {
     "data": {
      "text/markdown": [
       "<span style=\"color:#33cc33\">Correct:</span> \n",
       "\n",
       " The `Neighborhood` feature looks promising. It has the most categories of any feature, and several categories are rare. Others that could be worth considering are `SaleType`, `MSSubClass`, `Exterior1st`, `Exterior2nd`. In fact, almost any of the nominal features would be worth trying because of the prevalence of rare categories."
      ],
      "text/plain": [
       "Correct: \n",
       "\n",
       " The `Neighborhood` feature looks promising. It has the most categories of any feature, and several categories are rare. Others that could be worth considering are `SaleType`, `MSSubClass`, `Exterior1st`, `Exterior2nd`. In fact, almost any of the nominal features would be worth trying because of the prevalence of rare categories."
      ]
     },
     "metadata": {},
     "output_type": "display_data"
    }
   ],
   "source": [
    "# View the solution (Run this cell to receive credit!)\n",
    "q_1.check()"
   ]
  },
  {
   "cell_type": "markdown",
   "id": "8b6be04d",
   "metadata": {
    "papermill": {
     "duration": 0.007263,
     "end_time": "2022-07-07T17:00:37.990110",
     "exception": false,
     "start_time": "2022-07-07T17:00:37.982847",
     "status": "completed"
    },
    "tags": []
   },
   "source": [
    "-------------------------------------------------------------------------------\n",
    "\n",
    "Now you'll apply a target encoding to your choice of feature. As we discussed in the tutorial, to avoid overfitting, we need to fit the encoder on data heldout from the training set. Run this cell to create the encoding and training splits:"
   ]
  },
  {
   "cell_type": "code",
   "execution_count": 5,
   "id": "99186d16",
   "metadata": {
    "execution": {
     "iopub.execute_input": "2022-07-07T17:00:38.007297Z",
     "iopub.status.busy": "2022-07-07T17:00:38.006924Z",
     "iopub.status.idle": "2022-07-07T17:00:38.022057Z",
     "shell.execute_reply": "2022-07-07T17:00:38.020861Z"
    },
    "lines_to_next_cell": 2,
    "papermill": {
     "duration": 0.026496,
     "end_time": "2022-07-07T17:00:38.024422",
     "exception": false,
     "start_time": "2022-07-07T17:00:37.997926",
     "status": "completed"
    },
    "tags": []
   },
   "outputs": [],
   "source": [
    "# Encoding split\n",
    "X_encode = df.sample(frac=0.20, random_state=0)\n",
    "y_encode = X_encode.pop(\"SalePrice\")\n",
    "\n",
    "# Training split\n",
    "X_pretrain = df.drop(X_encode.index)\n",
    "y_train = X_pretrain.pop(\"SalePrice\")"
   ]
  },
  {
   "cell_type": "markdown",
   "id": "3baab6fa",
   "metadata": {
    "papermill": {
     "duration": 0.007731,
     "end_time": "2022-07-07T17:00:38.039858",
     "exception": false,
     "start_time": "2022-07-07T17:00:38.032127",
     "status": "completed"
    },
    "tags": []
   },
   "source": [
    "# 2) Apply M-Estimate Encoding\n",
    "\n",
    "Apply a target encoding to your choice of categorical features. Also choose a value for the smoothing parameter `m` (any value is okay for a correct answer)."
   ]
  },
  {
   "cell_type": "code",
   "execution_count": 6,
   "id": "a2afdac2",
   "metadata": {
    "execution": {
     "iopub.execute_input": "2022-07-07T17:00:38.057122Z",
     "iopub.status.busy": "2022-07-07T17:00:38.056438Z",
     "iopub.status.idle": "2022-07-07T17:00:38.144748Z",
     "shell.execute_reply": "2022-07-07T17:00:38.143501Z"
    },
    "lines_to_next_cell": 0,
    "papermill": {
     "duration": 0.099776,
     "end_time": "2022-07-07T17:00:38.147226",
     "exception": false,
     "start_time": "2022-07-07T17:00:38.047450",
     "status": "completed"
    },
    "tags": []
   },
   "outputs": [
    {
     "data": {
      "application/javascript": [
       "parent.postMessage({\"jupyterEvent\": \"custom.exercise_interaction\", \"data\": {\"outcomeType\": 1, \"valueTowardsCompletion\": 0.3333333333333333, \"interactionType\": 1, \"questionType\": 2, \"questionId\": \"2_Q2\", \"learnToolsVersion\": \"0.3.4\", \"failureMessage\": \"\", \"exceptionClass\": \"\", \"trace\": \"\"}}, \"*\")"
      ],
      "text/plain": [
       "<IPython.core.display.Javascript object>"
      ]
     },
     "metadata": {},
     "output_type": "display_data"
    },
    {
     "data": {
      "text/markdown": [
       "<span style=\"color:#33cc33\">Correct</span>"
      ],
      "text/plain": [
       "Correct"
      ]
     },
     "metadata": {},
     "output_type": "display_data"
    }
   ],
   "source": [
    "# YOUR CODE HERE: Create the MEstimateEncoder\n",
    "# Choose a set of features to encode and a value for m\n",
    "encoder = MEstimateEncoder(m=0.5,cols=['SaleType'])\n",
    "\n",
    "\n",
    "# Fit the encoder on the encoding split\n",
    "encoder.fit(X_encode,y_encode)\n",
    "\n",
    "# Encode the training split\n",
    "X_train = encoder.transform(X_pretrain, y_train)\n",
    "\n",
    "\n",
    "# Check your answer\n",
    "q_2.check()"
   ]
  },
  {
   "cell_type": "code",
   "execution_count": 7,
   "id": "ff0c6e9c",
   "metadata": {
    "execution": {
     "iopub.execute_input": "2022-07-07T17:00:38.165563Z",
     "iopub.status.busy": "2022-07-07T17:00:38.165171Z",
     "iopub.status.idle": "2022-07-07T17:00:38.169891Z",
     "shell.execute_reply": "2022-07-07T17:00:38.168794Z"
    },
    "lines_to_next_cell": 0,
    "papermill": {
     "duration": 0.016881,
     "end_time": "2022-07-07T17:00:38.172173",
     "exception": false,
     "start_time": "2022-07-07T17:00:38.155292",
     "status": "completed"
    },
    "tags": []
   },
   "outputs": [],
   "source": [
    "# Lines below will give you a hint or solution code\n",
    "#q_2.hint()\n",
    "#q_2.solution()"
   ]
  },
  {
   "cell_type": "markdown",
   "id": "f09e962b",
   "metadata": {
    "papermill": {
     "duration": 0.007568,
     "end_time": "2022-07-07T17:00:38.188180",
     "exception": false,
     "start_time": "2022-07-07T17:00:38.180612",
     "status": "completed"
    },
    "tags": []
   },
   "source": [
    "If you'd like to see how the encoded feature compares to the target, you can run this cell:"
   ]
  },
  {
   "cell_type": "code",
   "execution_count": 8,
   "id": "e1d57af1",
   "metadata": {
    "execution": {
     "iopub.execute_input": "2022-07-07T17:00:38.205946Z",
     "iopub.status.busy": "2022-07-07T17:00:38.205155Z",
     "iopub.status.idle": "2022-07-07T17:00:38.597113Z",
     "shell.execute_reply": "2022-07-07T17:00:38.595737Z"
    },
    "papermill": {
     "duration": 0.40383,
     "end_time": "2022-07-07T17:00:38.599866",
     "exception": false,
     "start_time": "2022-07-07T17:00:38.196036",
     "status": "completed"
    },
    "tags": []
   },
   "outputs": [
    {
     "data": {
      "image/png": "[encoded data removed]",
      "text/plain": [
       "<Figure size 540x360 with 1 Axes>"
      ]
     },
     "metadata": {},
     "output_type": "display_data"
    }
   ],
   "source": [
    "feature = encoder.cols\n",
    "\n",
    "plt.figure(dpi=90)\n",
    "ax = sns.distplot(y_train, kde=True, hist=False)\n",
    "ax = sns.distplot(X_train[feature], color='r', ax=ax, hist=True, kde=False, norm_hist=True)\n",
    "ax.set_xlabel(\"SalePrice\");"
   ]
  },
  {
   "cell_type": "markdown",
   "id": "bd19039b",
   "metadata": {
    "papermill": {
     "duration": 0.008049,
     "end_time": "2022-07-07T17:00:38.616271",
     "exception": false,
     "start_time": "2022-07-07T17:00:38.608222",
     "status": "completed"
    },
    "tags": []
   },
   "source": [
    "From the distribution plots, does it seem like the encoding is informative?\n",
    "\n",
    "And this cell will show you the score of the encoded set compared to the original set:"
   ]
  },
  {
   "cell_type": "code",
   "execution_count": 9,
   "id": "439675de",
   "metadata": {
    "execution": {
     "iopub.execute_input": "2022-07-07T17:00:38.635162Z",
     "iopub.status.busy": "2022-07-07T17:00:38.633990Z",
     "iopub.status.idle": "2022-07-07T17:00:47.468262Z",
     "shell.execute_reply": "2022-07-07T17:00:47.467277Z"
    },
    "papermill": {
     "duration": 8.846783,
     "end_time": "2022-07-07T17:00:47.471217",
     "exception": false,
     "start_time": "2022-07-07T17:00:38.624434",
     "status": "completed"
    },
    "tags": []
   },
   "outputs": [
    {
     "name": "stdout",
     "output_type": "stream",
     "text": [
      "Baseline Score: 0.1428 RMSLE\n",
      "Score with Encoding: 0.1465 RMSLE\n"
     ]
    }
   ],
   "source": [
    "X = df.copy()\n",
    "y = X.pop(\"SalePrice\")\n",
    "score_base = score_dataset(X, y)\n",
    "score_new = score_dataset(X_train, y_train)\n",
    "\n",
    "print(f\"Baseline Score: {score_base:.4f} RMSLE\")\n",
    "print(f\"Score with Encoding: {score_new:.4f} RMSLE\")"
   ]
  },
  {
   "cell_type": "markdown",
   "id": "be7e476e",
   "metadata": {
    "papermill": {
     "duration": 0.008323,
     "end_time": "2022-07-07T17:00:47.489554",
     "exception": false,
     "start_time": "2022-07-07T17:00:47.481231",
     "status": "completed"
    },
    "tags": []
   },
   "source": [
    "Do you think that target encoding was worthwhile in this case? Depending on which feature or features you chose, you may have ended up with a score significantly worse than the baseline. In that case, it's likely the extra information gained by the encoding couldn't make up for the loss of data used for the encoding."
   ]
  },
  {
   "cell_type": "markdown",
   "id": "678e60a8",
   "metadata": {
    "papermill": {
     "duration": 0.008127,
     "end_time": "2022-07-07T17:00:47.506221",
     "exception": false,
     "start_time": "2022-07-07T17:00:47.498094",
     "status": "completed"
    },
    "tags": []
   },
   "source": [
    "-------------------------------------------------------------------------------\n",
    "\n",
    "In this question, you'll explore the problem of overfitting with target encodings. This will illustrate this importance of training fitting target encoders on data held-out from the training set.\n",
    "\n",
    "So let's see what happens when we fit the encoder and the model on the *same* dataset. To emphasize how dramatic the overfitting can be, we'll mean-encode a feature that should have no relationship with `SalePrice`, a count: `0, 1, 2, 3, 4, 5, ...`."
   ]
  },
  {
   "cell_type": "code",
   "execution_count": 10,
   "id": "31de8ea5",
   "metadata": {
    "execution": {
     "iopub.execute_input": "2022-07-07T17:00:47.526190Z",
     "iopub.status.busy": "2022-07-07T17:00:47.525061Z",
     "iopub.status.idle": "2022-07-07T17:00:51.763802Z",
     "shell.execute_reply": "2022-07-07T17:00:51.762796Z"
    },
    "papermill": {
     "duration": 4.251574,
     "end_time": "2022-07-07T17:00:51.766579",
     "exception": false,
     "start_time": "2022-07-07T17:00:47.515005",
     "status": "completed"
    },
    "tags": []
   },
   "outputs": [
    {
     "name": "stdout",
     "output_type": "stream",
     "text": [
      "Score: 0.0293 RMSLE\n"
     ]
    }
   ],
   "source": [
    "# Try experimenting with the smoothing parameter m\n",
    "# Try 0, 1, 5, 50\n",
    "m = 0\n",
    "\n",
    "X = df.copy()\n",
    "y = X.pop('SalePrice')\n",
    "\n",
    "# Create an uninformative feature\n",
    "X[\"Count\"] = range(len(X))\n",
    "X[\"Count\"][1] = 0  # actually need one duplicate value to circumvent error-checking in MEstimateEncoder\n",
    "\n",
    "# fit and transform on the same dataset\n",
    "encoder = MEstimateEncoder(cols=\"Count\", m=m)\n",
    "X = encoder.fit_transform(X, y)\n",
    "\n",
    "# Results\n",
    "score =  score_dataset(X, y)\n",
    "print(f\"Score: {score:.4f} RMSLE\")"
   ]
  },
  {
   "cell_type": "markdown",
   "id": "d2236a60",
   "metadata": {
    "papermill": {
     "duration": 0.008203,
     "end_time": "2022-07-07T17:00:51.785028",
     "exception": false,
     "start_time": "2022-07-07T17:00:51.776825",
     "status": "completed"
    },
    "tags": []
   },
   "source": [
    "Almost a perfect score!"
   ]
  },
  {
   "cell_type": "code",
   "execution_count": 11,
   "id": "d0a9d9b2",
   "metadata": {
    "execution": {
     "iopub.execute_input": "2022-07-07T17:00:51.804092Z",
     "iopub.status.busy": "2022-07-07T17:00:51.803064Z",
     "iopub.status.idle": "2022-07-07T17:00:52.172685Z",
     "shell.execute_reply": "2022-07-07T17:00:52.171558Z"
    },
    "papermill": {
     "duration": 0.381891,
     "end_time": "2022-07-07T17:00:52.175381",
     "exception": false,
     "start_time": "2022-07-07T17:00:51.793490",
     "status": "completed"
    },
    "tags": []
   },
   "outputs": [
    {
     "data": {
      "image/png": "[encoded data removed]",
      "text/plain": [
       "<Figure size 540x360 with 1 Axes>"
      ]
     },
     "metadata": {},
     "output_type": "display_data"
    }
   ],
   "source": [
    "plt.figure(dpi=90)\n",
    "ax = sns.distplot(y, kde=True, hist=False)\n",
    "ax = sns.distplot(X[\"Count\"], color='r', ax=ax, hist=True, kde=False, norm_hist=True)\n",
    "ax.set_xlabel(\"SalePrice\");"
   ]
  },
  {
   "cell_type": "markdown",
   "id": "36b9432f",
   "metadata": {
    "papermill": {
     "duration": 0.008987,
     "end_time": "2022-07-07T17:00:52.193406",
     "exception": false,
     "start_time": "2022-07-07T17:00:52.184419",
     "status": "completed"
    },
    "tags": []
   },
   "source": [
    "And the distributions are almost exactly the same, too.\n",
    "\n",
    "# 3) Overfitting with Target Encoders\n",
    "\n",
    "Based on your understanding of how mean-encoding works, can you explain how XGBoost was able to get an almost a perfect fit after mean-encoding the count feature?"
   ]
  },
  {
   "cell_type": "code",
   "execution_count": 12,
   "id": "82835343",
   "metadata": {
    "execution": {
     "iopub.execute_input": "2022-07-07T17:00:52.213394Z",
     "iopub.status.busy": "2022-07-07T17:00:52.212981Z",
     "iopub.status.idle": "2022-07-07T17:00:52.222138Z",
     "shell.execute_reply": "2022-07-07T17:00:52.220683Z"
    },
    "lines_to_next_cell": 0,
    "papermill": {
     "duration": 0.022018,
     "end_time": "2022-07-07T17:00:52.224455",
     "exception": false,
     "start_time": "2022-07-07T17:00:52.202437",
     "status": "completed"
    },
    "tags": []
   },
   "outputs": [
    {
     "data": {
      "application/javascript": [
       "parent.postMessage({\"jupyterEvent\": \"custom.exercise_interaction\", \"data\": {\"outcomeType\": 1, \"valueTowardsCompletion\": 0.3333333333333333, \"interactionType\": 1, \"questionType\": 4, \"questionId\": \"3_Q3\", \"learnToolsVersion\": \"0.3.4\", \"failureMessage\": \"\", \"exceptionClass\": \"\", \"trace\": \"\"}}, \"*\")"
      ],
      "text/plain": [
       "<IPython.core.display.Javascript object>"
      ]
     },
     "metadata": {},
     "output_type": "display_data"
    },
    {
     "data": {
      "text/markdown": [
       "<span style=\"color:#33cc33\">Correct:</span> \n",
       "\n",
       "\n",
       "Since `Count` never has any duplicate values, the mean-encoded `Count` is essentially an exact copy of the target. In other words, mean-encoding turned a completely meaningless feature into a perfect feature.\n",
       "\n",
       "Now, the only reason this worked is because we trained XGBoost on the same set we used to train the encoder. If we had used a hold-out set instead, none of this \"fake\" encoding would have transferred to the training data.\n",
       "\n",
       "The lesson is that when using a target encoder it's very important to use separate data sets for training the encoder and training the model. Otherwise the results can be very disappointing!\n"
      ],
      "text/plain": [
       "Correct: \n",
       "\n",
       "\n",
       "Since `Count` never has any duplicate values, the mean-encoded `Count` is essentially an exact copy of the target. In other words, mean-encoding turned a completely meaningless feature into a perfect feature.\n",
       "\n",
       "Now, the only reason this worked is because we trained XGBoost on the same set we used to train the encoder. If we had used a hold-out set instead, none of this \"fake\" encoding would have transferred to the training data.\n",
       "\n",
       "The lesson is that when using a target encoder it's very important to use separate data sets for training the encoder and training the model. Otherwise the results can be very disappointing!"
      ]
     },
     "metadata": {},
     "output_type": "display_data"
    }
   ],
   "source": [
    "# View the solution (Run this cell to receive credit!)\n",
    "q_3.check()"
   ]
  },
  {
   "cell_type": "code",
   "execution_count": 13,
   "id": "df36e9f8",
   "metadata": {
    "execution": {
     "iopub.execute_input": "2022-07-07T17:00:52.244788Z",
     "iopub.status.busy": "2022-07-07T17:00:52.244357Z",
     "iopub.status.idle": "2022-07-07T17:00:52.249104Z",
     "shell.execute_reply": "2022-07-07T17:00:52.248039Z"
    },
    "papermill": {
     "duration": 0.017578,
     "end_time": "2022-07-07T17:00:52.251373",
     "exception": false,
     "start_time": "2022-07-07T17:00:52.233795",
     "status": "completed"
    },
    "tags": []
   },
   "outputs": [],
   "source": [
    "# Uncomment this if you'd like a hint before seeing the answer\n",
    "#q_3.hint()"
   ]
  },
  {
   "cell_type": "markdown",
   "id": "cf7d936a",
   "metadata": {
    "papermill": {
     "duration": 0.00888,
     "end_time": "2022-07-07T17:00:52.269621",
     "exception": false,
     "start_time": "2022-07-07T17:00:52.260741",
     "status": "completed"
    },
    "tags": []
   },
   "source": [
    "# The End #\n",
    "\n",
    "That's it for *Feature Engineering*! We hope you enjoyed your time with us.\n",
    "\n",
    "Now, are you ready to try out your new skills? Now would be a great time to join our [Housing Prices](https://www.kaggle.com/c/house-prices-advanced-regression-techniques) Getting Started competition. We've even prepared a [Bonus Lesson](https://www.kaggle.com/ryanholbrook/feature-engineering-for-house-prices) that collects all the work we've done together into a starter notebook.\n",
    "\n",
    "# References #\n",
    "Here are some great resources you might like to consult for more information. They all played a part in shaping this course:\n",
    "- *The Art of Feature Engineering*, a book by Pablo Duboue.\n",
    "- *An Empirical Analysis of Feature Engineering for Predictive Modeling*, an article by Jeff Heaton.\n",
    "- *Feature Engineering for Machine Learning*, a book by Alice Zheng and Amanda Casari. The tutorial on clustering was inspired by this excellent book.\n",
    "- *Feature Engineering and Selection*, a book by Max Kuhn and Kjell Johnson."
   ]
  },
  {
   "cell_type": "markdown",
   "id": "42294b63",
   "metadata": {
    "papermill": {
     "duration": 0.00877,
     "end_time": "2022-07-07T17:00:52.287587",
     "exception": false,
     "start_time": "2022-07-07T17:00:52.278817",
     "status": "completed"
    },
    "tags": []
   },
   "source": [
    "---\n",
    "\n",
    "\n",
    "\n",
    "\n",
    "*Have questions or comments? Visit the [course discussion forum](https://www.kaggle.com/learn/feature-engineering/discussion) to chat with other learners.*"
   ]
  }
 ],
 "metadata": {
  "kernelspec": {
   "display_name": "Python 3",
   "language": "python",
   "name": "python3"
  },
  "language_info": {
   "codemirror_mode": {
    "name": "ipython",
    "version": 3
   },
   "file_extension": ".py",
   "mimetype": "text/x-python",
   "name": "python",
   "nbconvert_exporter": "python",
   "pygments_lexer": "ipython3",
   "version": "3.7.12"
  },
  "papermill": {
   "default_parameters": {},
   "duration": 28.201324,
   "end_time": "2022-07-07T17:00:53.120156",
   "environment_variables": {},
   "exception": null,
   "input_path": "__notebook__.ipynb",
   "output_path": "__notebook__.ipynb",
   "parameters": {},
   "start_time": "2022-07-07T17:00:24.918832",
   "version": "2.3.4"
  }
 },
 "nbformat": 4,
 "nbformat_minor": 5
}
