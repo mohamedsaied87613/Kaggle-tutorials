{
 "cells": [
  {
   "cell_type": "markdown",
   "id": "f3131159",
   "metadata": {
    "papermill": {
     "duration": 0.005729,
     "end_time": "2022-07-07T16:40:45.652530",
     "exception": false,
     "start_time": "2022-07-07T16:40:45.646801",
     "status": "completed"
    },
    "tags": []
   },
   "source": [
    "**This notebook is an exercise in the [Feature Engineering](https://www.kaggle.com/learn/feature-engineering) course.  You can reference the tutorial at [this link](https://www.kaggle.com/ryanholbrook/creating-features).**\n",
    "\n",
    "---\n"
   ]
  },
  {
   "cell_type": "markdown",
   "id": "ac8bf3b0",
   "metadata": {
    "papermill": {
     "duration": 0.004346,
     "end_time": "2022-07-07T16:40:45.661689",
     "exception": false,
     "start_time": "2022-07-07T16:40:45.657343",
     "status": "completed"
    },
    "tags": []
   },
   "source": [
    "# Introduction #\n",
    "\n",
    "In this exercise you'll start developing the features you identified in Exercise 2 as having the most potential. As you work through this exercise, you might take a moment to look at the data documentation again and consider whether the features we're creating make sense from a real-world perspective, and whether there are any useful combinations that stand out to you.\n",
    "\n",
    "Run this cell to set everything up!"
   ]
  },
  {
   "cell_type": "code",
   "execution_count": 1,
   "id": "637afba0",
   "metadata": {
    "execution": {
     "iopub.execute_input": "2022-07-07T16:40:45.673009Z",
     "iopub.status.busy": "2022-07-07T16:40:45.672543Z",
     "iopub.status.idle": "2022-07-07T16:40:47.192458Z",
     "shell.execute_reply": "2022-07-07T16:40:47.191482Z"
    },
    "papermill": {
     "duration": 1.528627,
     "end_time": "2022-07-07T16:40:47.195056",
     "exception": false,
     "start_time": "2022-07-07T16:40:45.666429",
     "status": "completed"
    },
    "tags": []
   },
   "outputs": [],
   "source": [
    "# Setup feedback system\n",
    "from learntools.core import binder\n",
    "binder.bind(globals())\n",
    "from learntools.feature_engineering_new.ex3 import *\n",
    "\n",
    "import numpy as np\n",
    "import pandas as pd\n",
    "from sklearn.model_selection import cross_val_score\n",
    "from xgboost import XGBRegressor\n",
    "\n",
    "\n",
    "def score_dataset(X, y, model=XGBRegressor()):\n",
    "    # Label encoding for categoricals\n",
    "    for colname in X.select_dtypes([\"category\", \"object\"]):\n",
    "        X[colname], _ = X[colname].factorize()\n",
    "    # Metric for Housing competition is RMSLE (Root Mean Squared Log Error)\n",
    "    score = cross_val_score(\n",
    "        model, X, y, cv=5, scoring=\"neg_mean_squared_log_error\",\n",
    "    )\n",
    "    score = -1 * score.mean()\n",
    "    score = np.sqrt(score)\n",
    "    return score\n",
    "\n",
    "\n",
    "# Prepare data\n",
    "df = pd.read_csv(\"../input/fe-course-data/ames.csv\")\n",
    "X = df.copy()\n",
    "y = X.pop(\"SalePrice\")"
   ]
  },
  {
   "cell_type": "markdown",
   "id": "e60743eb",
   "metadata": {
    "papermill": {
     "duration": 0.004544,
     "end_time": "2022-07-07T16:40:47.204252",
     "exception": false,
     "start_time": "2022-07-07T16:40:47.199708",
     "status": "completed"
    },
    "tags": []
   },
   "source": [
    "-------------------------------------------------------------------------------\n",
    "\n",
    "Let's start with a few mathematical combinations. We'll focus on features describing areas -- having the same units (square-feet) makes it easy to combine them in sensible ways. Since we're using XGBoost (a tree-based model), we'll focus on ratios and sums.\n",
    "\n",
    "# 1) Create Mathematical Transforms\n",
    "\n",
    "Create the following features:\n",
    "\n",
    "- `LivLotRatio`: the ratio of `GrLivArea` to `LotArea`\n",
    "- `Spaciousness`: the sum of `FirstFlrSF` and `SecondFlrSF` divided by `TotRmsAbvGrd`\n",
    "- `TotalOutsideSF`: the sum of `WoodDeckSF`, `OpenPorchSF`, `EnclosedPorch`, `Threeseasonporch`, and `ScreenPorch`"
   ]
  },
  {
   "cell_type": "code",
   "execution_count": 2,
   "id": "52ddbbf9",
   "metadata": {
    "execution": {
     "iopub.execute_input": "2022-07-07T16:40:47.215645Z",
     "iopub.status.busy": "2022-07-07T16:40:47.214983Z",
     "iopub.status.idle": "2022-07-07T16:40:47.238241Z",
     "shell.execute_reply": "2022-07-07T16:40:47.237185Z"
    },
    "lines_to_next_cell": 0,
    "papermill": {
     "duration": 0.031788,
     "end_time": "2022-07-07T16:40:47.240619",
     "exception": false,
     "start_time": "2022-07-07T16:40:47.208831",
     "status": "completed"
    },
    "tags": []
   },
   "outputs": [
    {
     "data": {
      "application/javascript": [
       "parent.postMessage({\"jupyterEvent\": \"custom.exercise_interaction\", \"data\": {\"outcomeType\": 1, \"valueTowardsCompletion\": 0.2, \"interactionType\": 1, \"questionType\": 2, \"questionId\": \"1_Q1\", \"learnToolsVersion\": \"0.3.4\", \"failureMessage\": \"\", \"exceptionClass\": \"\", \"trace\": \"\"}}, \"*\")"
      ],
      "text/plain": [
       "<IPython.core.display.Javascript object>"
      ]
     },
     "metadata": {},
     "output_type": "display_data"
    },
    {
     "data": {
      "text/markdown": [
       "<span style=\"color:#33cc33\">Correct</span>"
      ],
      "text/plain": [
       "Correct"
      ]
     },
     "metadata": {},
     "output_type": "display_data"
    }
   ],
   "source": [
    "# YOUR CODE HERE\n",
    "X_1 = pd.DataFrame()  # dataframe to hold new features\n",
    "\n",
    "X_1[\"LivLotRatio\"] = X[\"GrLivArea\"]/X[\"LotArea\"]\n",
    "X_1[\"Spaciousness\"] = ( X[\"FirstFlrSF\"]+X[\"SecondFlrSF\"]  )/X[\"TotRmsAbvGrd\"]\n",
    "X_1[\"TotalOutsideSF\"] = X['WoodDeckSF']+ X['OpenPorchSF']+X['EnclosedPorch']+ X['Threeseasonporch']+X['ScreenPorch']\n",
    "\n",
    "\n",
    "# Check your answer\n",
    "q_1.check()"
   ]
  },
  {
   "cell_type": "code",
   "execution_count": 3,
   "id": "b19909b4",
   "metadata": {
    "execution": {
     "iopub.execute_input": "2022-07-07T16:40:47.252530Z",
     "iopub.status.busy": "2022-07-07T16:40:47.251882Z",
     "iopub.status.idle": "2022-07-07T16:40:47.256260Z",
     "shell.execute_reply": "2022-07-07T16:40:47.255282Z"
    },
    "lines_to_next_cell": 0,
    "papermill": {
     "duration": 0.012951,
     "end_time": "2022-07-07T16:40:47.258396",
     "exception": false,
     "start_time": "2022-07-07T16:40:47.245445",
     "status": "completed"
    },
    "tags": []
   },
   "outputs": [],
   "source": [
    "# Lines below will give you a hint or solution code\n",
    "#q_1.hint()\n",
    "#q_1.solution()"
   ]
  },
  {
   "cell_type": "markdown",
   "id": "57d40594",
   "metadata": {
    "papermill": {
     "duration": 0.004514,
     "end_time": "2022-07-07T16:40:47.267752",
     "exception": false,
     "start_time": "2022-07-07T16:40:47.263238",
     "status": "completed"
    },
    "tags": []
   },
   "source": [
    "-------------------------------------------------------------------------------\n",
    "\n",
    "If you've discovered an interaction effect between a numeric feature and a categorical feature, you might want to model it explicitly using a one-hot encoding, like so:\n",
    "\n",
    "```\n",
    "# One-hot encode Categorical feature, adding a column prefix \"Cat\"\n",
    "X_new = pd.get_dummies(df.Categorical, prefix=\"Cat\")\n",
    "\n",
    "# Multiply row-by-row\n",
    "X_new = X_new.mul(df.Continuous, axis=0)\n",
    "\n",
    "# Join the new features to the feature set\n",
    "X = X.join(X_new)\n",
    "```\n",
    "\n",
    "# 2) Interaction with a Categorical\n",
    "\n",
    "We discovered an interaction between `BldgType` and `GrLivArea` in Exercise 2. Now create their interaction features."
   ]
  },
  {
   "cell_type": "code",
   "execution_count": 4,
   "id": "9a4e8be0",
   "metadata": {
    "execution": {
     "iopub.execute_input": "2022-07-07T16:40:47.279279Z",
     "iopub.status.busy": "2022-07-07T16:40:47.278915Z",
     "iopub.status.idle": "2022-07-07T16:40:47.286726Z",
     "shell.execute_reply": "2022-07-07T16:40:47.285709Z"
    },
    "lines_to_next_cell": 0,
    "papermill": {
     "duration": 0.016414,
     "end_time": "2022-07-07T16:40:47.289051",
     "exception": false,
     "start_time": "2022-07-07T16:40:47.272637",
     "status": "completed"
    },
    "tags": []
   },
   "outputs": [],
   "source": [
    "# YOUR CODE HERE\n",
    "# One-hot encode BldgType. Use `prefix=\"Bldg\"` in `get_dummies`\n",
    "from sklearn.preprocessing import OneHotEncoder\n",
    "encoder=OneHotEncoder()\n",
    "X_2 = pd.get_dummies(df.BldgType, prefix=\"Bldg\")\n",
    "# Multiply\n",
    "X_2 = X_2.mul(df.GrLivArea, axis=0)\n",
    "\n",
    "# Check your answer\n",
    "#q_2.check()"
   ]
  },
  {
   "cell_type": "code",
   "execution_count": 5,
   "id": "c7fc45e9",
   "metadata": {
    "execution": {
     "iopub.execute_input": "2022-07-07T16:40:47.300276Z",
     "iopub.status.busy": "2022-07-07T16:40:47.299926Z",
     "iopub.status.idle": "2022-07-07T16:40:47.303890Z",
     "shell.execute_reply": "2022-07-07T16:40:47.302846Z"
    },
    "lines_to_next_cell": 0,
    "papermill": {
     "duration": 0.011945,
     "end_time": "2022-07-07T16:40:47.305808",
     "exception": false,
     "start_time": "2022-07-07T16:40:47.293863",
     "status": "completed"
    },
    "tags": []
   },
   "outputs": [],
   "source": [
    "# Lines below will give you a hint or solution code\n",
    "#q_2.hint()\n",
    "#q_2.solution()"
   ]
  },
  {
   "cell_type": "markdown",
   "id": "00dcedbe",
   "metadata": {
    "lines_to_next_cell": 0,
    "papermill": {
     "duration": 0.004542,
     "end_time": "2022-07-07T16:40:47.315154",
     "exception": false,
     "start_time": "2022-07-07T16:40:47.310612",
     "status": "completed"
    },
    "tags": []
   },
   "source": [
    "# 3) Count Feature\n",
    "\n",
    "Let's try creating a feature that describes how many kinds of outdoor areas a dwelling has. Create a feature `PorchTypes` that counts how many of the following are greater than 0.0:\n",
    "\n",
    "```\n",
    "WoodDeckSF\n",
    "OpenPorchSF\n",
    "EnclosedPorch\n",
    "Threeseasonporch\n",
    "ScreenPorch\n",
    "```"
   ]
  },
  {
   "cell_type": "code",
   "execution_count": 6,
   "id": "2b77f036",
   "metadata": {
    "execution": {
     "iopub.execute_input": "2022-07-07T16:40:47.326587Z",
     "iopub.status.busy": "2022-07-07T16:40:47.325933Z",
     "iopub.status.idle": "2022-07-07T16:40:47.346966Z",
     "shell.execute_reply": "2022-07-07T16:40:47.346157Z"
    },
    "lines_to_next_cell": 0,
    "papermill": {
     "duration": 0.028831,
     "end_time": "2022-07-07T16:40:47.348671",
     "exception": false,
     "start_time": "2022-07-07T16:40:47.319840",
     "status": "completed"
    },
    "tags": []
   },
   "outputs": [
    {
     "data": {
      "application/javascript": [
       "parent.postMessage({\"jupyterEvent\": \"custom.exercise_interaction\", \"data\": {\"outcomeType\": 1, \"valueTowardsCompletion\": 0.2, \"interactionType\": 1, \"questionType\": 2, \"questionId\": \"3_Q3\", \"learnToolsVersion\": \"0.3.4\", \"failureMessage\": \"\", \"exceptionClass\": \"\", \"trace\": \"\"}}, \"*\")"
      ],
      "text/plain": [
       "<IPython.core.display.Javascript object>"
      ]
     },
     "metadata": {},
     "output_type": "display_data"
    },
    {
     "data": {
      "text/markdown": [
       "<span style=\"color:#33cc33\">Correct</span>"
      ],
      "text/plain": [
       "Correct"
      ]
     },
     "metadata": {},
     "output_type": "display_data"
    }
   ],
   "source": [
    "X_3 = pd.DataFrame()\n",
    "\n",
    "# YOUR CODE HERE\n",
    "\n",
    "features=['WoodDeckSF'\n",
    ",'OpenPorchSF'\n",
    ",'EnclosedPorch'\n",
    ",'Threeseasonporch'\n",
    ",'ScreenPorch']\n",
    "\n",
    "X_3[\"PorchTypes\"] = X[features].gt(0).sum(axis=1)\n",
    "\n",
    "\n",
    "# Check your answer\n",
    "q_3.check()"
   ]
  },
  {
   "cell_type": "code",
   "execution_count": 7,
   "id": "e45a9939",
   "metadata": {
    "execution": {
     "iopub.execute_input": "2022-07-07T16:40:47.360779Z",
     "iopub.status.busy": "2022-07-07T16:40:47.360156Z",
     "iopub.status.idle": "2022-07-07T16:40:47.363807Z",
     "shell.execute_reply": "2022-07-07T16:40:47.363121Z"
    },
    "lines_to_next_cell": 0,
    "papermill": {
     "duration": 0.012036,
     "end_time": "2022-07-07T16:40:47.365702",
     "exception": false,
     "start_time": "2022-07-07T16:40:47.353666",
     "status": "completed"
    },
    "tags": []
   },
   "outputs": [],
   "source": [
    "# Lines below will give you a hint or solution code\n",
    "#q_3.hint()\n",
    "#q_3.solution()"
   ]
  },
  {
   "cell_type": "markdown",
   "id": "546f292e",
   "metadata": {
    "papermill": {
     "duration": 0.004694,
     "end_time": "2022-07-07T16:40:47.375521",
     "exception": false,
     "start_time": "2022-07-07T16:40:47.370827",
     "status": "completed"
    },
    "tags": []
   },
   "source": [
    "# 4) Break Down a Categorical Feature\n",
    "\n",
    "`MSSubClass` describes the type of a dwelling:"
   ]
  },
  {
   "cell_type": "code",
   "execution_count": 8,
   "id": "7037885b",
   "metadata": {
    "execution": {
     "iopub.execute_input": "2022-07-07T16:40:47.387433Z",
     "iopub.status.busy": "2022-07-07T16:40:47.386782Z",
     "iopub.status.idle": "2022-07-07T16:40:47.392952Z",
     "shell.execute_reply": "2022-07-07T16:40:47.392214Z"
    },
    "papermill": {
     "duration": 0.014534,
     "end_time": "2022-07-07T16:40:47.395107",
     "exception": false,
     "start_time": "2022-07-07T16:40:47.380573",
     "status": "completed"
    },
    "tags": []
   },
   "outputs": [
    {
     "data": {
      "text/plain": [
       "array(['One_Story_1946_and_Newer_All_Styles', 'Two_Story_1946_and_Newer',\n",
       "       'One_Story_PUD_1946_and_Newer',\n",
       "       'One_and_Half_Story_Finished_All_Ages', 'Split_Foyer',\n",
       "       'Two_Story_PUD_1946_and_Newer', 'Split_or_Multilevel',\n",
       "       'One_Story_1945_and_Older', 'Duplex_All_Styles_and_Ages',\n",
       "       'Two_Family_conversion_All_Styles_and_Ages',\n",
       "       'One_and_Half_Story_Unfinished_All_Ages',\n",
       "       'Two_Story_1945_and_Older', 'Two_and_Half_Story_All_Ages',\n",
       "       'One_Story_with_Finished_Attic_All_Ages',\n",
       "       'PUD_Multilevel_Split_Level_Foyer',\n",
       "       'One_and_Half_Story_PUD_All_Ages'], dtype=object)"
      ]
     },
     "execution_count": 8,
     "metadata": {},
     "output_type": "execute_result"
    }
   ],
   "source": [
    "df.MSSubClass.unique()"
   ]
  },
  {
   "cell_type": "markdown",
   "id": "e0e66da4",
   "metadata": {
    "papermill": {
     "duration": 0.004808,
     "end_time": "2022-07-07T16:40:47.405127",
     "exception": false,
     "start_time": "2022-07-07T16:40:47.400319",
     "status": "completed"
    },
    "tags": []
   },
   "source": [
    "You can see that there is a more general categorization described (roughly) by the first word of each category. Create a feature containing only these first words by splitting `MSSubClass` at the first underscore `_`. (Hint: In the `split` method use an argument `n=1`.)"
   ]
  },
  {
   "cell_type": "code",
   "execution_count": 9,
   "id": "0181be91",
   "metadata": {
    "execution": {
     "iopub.execute_input": "2022-07-07T16:40:47.417147Z",
     "iopub.status.busy": "2022-07-07T16:40:47.416506Z",
     "iopub.status.idle": "2022-07-07T16:40:47.437496Z",
     "shell.execute_reply": "2022-07-07T16:40:47.436396Z"
    },
    "lines_to_next_cell": 0,
    "papermill": {
     "duration": 0.029482,
     "end_time": "2022-07-07T16:40:47.439718",
     "exception": false,
     "start_time": "2022-07-07T16:40:47.410236",
     "status": "completed"
    },
    "tags": []
   },
   "outputs": [
    {
     "data": {
      "application/javascript": [
       "parent.postMessage({\"jupyterEvent\": \"custom.exercise_interaction\", \"data\": {\"outcomeType\": 1, \"valueTowardsCompletion\": 0.2, \"interactionType\": 1, \"questionType\": 2, \"questionId\": \"4_Q4\", \"learnToolsVersion\": \"0.3.4\", \"failureMessage\": \"\", \"exceptionClass\": \"\", \"trace\": \"\"}}, \"*\")"
      ],
      "text/plain": [
       "<IPython.core.display.Javascript object>"
      ]
     },
     "metadata": {},
     "output_type": "display_data"
    },
    {
     "data": {
      "text/markdown": [
       "<span style=\"color:#33cc33\">Correct</span>"
      ],
      "text/plain": [
       "Correct"
      ]
     },
     "metadata": {},
     "output_type": "display_data"
    }
   ],
   "source": [
    "X_4 = pd.DataFrame()\n",
    "\n",
    "# YOUR CODE HERE\n",
    "X_4[\"MSClass\"] = df.MSSubClass.str.split(\"_\", n=1,expand=True)[0]\n",
    "X_4[\"MSClass\"]\n",
    "# Check your answer\n",
    "q_4.check()"
   ]
  },
  {
   "cell_type": "code",
   "execution_count": 10,
   "id": "5c1d057f",
   "metadata": {
    "execution": {
     "iopub.execute_input": "2022-07-07T16:40:47.453064Z",
     "iopub.status.busy": "2022-07-07T16:40:47.452360Z",
     "iopub.status.idle": "2022-07-07T16:40:47.456707Z",
     "shell.execute_reply": "2022-07-07T16:40:47.455960Z"
    },
    "lines_to_next_cell": 0,
    "papermill": {
     "duration": 0.013649,
     "end_time": "2022-07-07T16:40:47.458733",
     "exception": false,
     "start_time": "2022-07-07T16:40:47.445084",
     "status": "completed"
    },
    "tags": []
   },
   "outputs": [],
   "source": [
    "# Lines below will give you a hint or solution code\n",
    "#q_4.hint()\n",
    "#q_4.solution()"
   ]
  },
  {
   "cell_type": "markdown",
   "id": "22cf2da4",
   "metadata": {
    "papermill": {
     "duration": 0.00508,
     "end_time": "2022-07-07T16:40:47.469183",
     "exception": false,
     "start_time": "2022-07-07T16:40:47.464103",
     "status": "completed"
    },
    "tags": []
   },
   "source": [
    "# 5) Use a Grouped Transform\n",
    "\n",
    "The value of a home often depends on how it compares to typical homes in its neighborhood. Create a feature `MedNhbdArea` that describes the *median* of `GrLivArea` grouped on `Neighborhood`."
   ]
  },
  {
   "cell_type": "code",
   "execution_count": 11,
   "id": "cc0b73ff",
   "metadata": {
    "execution": {
     "iopub.execute_input": "2022-07-07T16:40:47.481803Z",
     "iopub.status.busy": "2022-07-07T16:40:47.481152Z",
     "iopub.status.idle": "2022-07-07T16:40:47.500056Z",
     "shell.execute_reply": "2022-07-07T16:40:47.499114Z"
    },
    "lines_to_next_cell": 0,
    "papermill": {
     "duration": 0.027623,
     "end_time": "2022-07-07T16:40:47.502116",
     "exception": false,
     "start_time": "2022-07-07T16:40:47.474493",
     "status": "completed"
    },
    "tags": []
   },
   "outputs": [
    {
     "data": {
      "application/javascript": [
       "parent.postMessage({\"jupyterEvent\": \"custom.exercise_interaction\", \"data\": {\"outcomeType\": 1, \"valueTowardsCompletion\": 0.2, \"interactionType\": 1, \"questionType\": 2, \"questionId\": \"5_Q5\", \"learnToolsVersion\": \"0.3.4\", \"failureMessage\": \"\", \"exceptionClass\": \"\", \"trace\": \"\"}}, \"*\")"
      ],
      "text/plain": [
       "<IPython.core.display.Javascript object>"
      ]
     },
     "metadata": {},
     "output_type": "display_data"
    },
    {
     "data": {
      "text/markdown": [
       "<span style=\"color:#33cc33\">Correct</span>"
      ],
      "text/plain": [
       "Correct"
      ]
     },
     "metadata": {},
     "output_type": "display_data"
    }
   ],
   "source": [
    "X_5 = pd.DataFrame()\n",
    "\n",
    "# YOUR CODE HERE\n",
    "#X_5[\"MedNhbdArea\"] = X.groupby(\"Neighborhood\")['GrLivArea'].median() !!!\n",
    "X_5[\"MedNhbdArea\"] = df.groupby(\"Neighborhood\")[\"GrLivArea\"].transform(\"median\")\n",
    "# Check your answer\n",
    "q_5.check()"
   ]
  },
  {
   "cell_type": "code",
   "execution_count": 12,
   "id": "483a74cd",
   "metadata": {
    "execution": {
     "iopub.execute_input": "2022-07-07T16:40:47.515031Z",
     "iopub.status.busy": "2022-07-07T16:40:47.514645Z",
     "iopub.status.idle": "2022-07-07T16:40:47.522988Z",
     "shell.execute_reply": "2022-07-07T16:40:47.521850Z"
    },
    "lines_to_next_cell": 0,
    "papermill": {
     "duration": 0.017358,
     "end_time": "2022-07-07T16:40:47.525007",
     "exception": false,
     "start_time": "2022-07-07T16:40:47.507649",
     "status": "completed"
    },
    "tags": []
   },
   "outputs": [
    {
     "data": {
      "application/javascript": [
       "parent.postMessage({\"jupyterEvent\": \"custom.exercise_interaction\", \"data\": {\"interactionType\": 3, \"questionType\": 2, \"questionId\": \"5_Q5\", \"learnToolsVersion\": \"0.3.4\", \"valueTowardsCompletion\": 0.0, \"failureMessage\": \"\", \"exceptionClass\": \"\", \"trace\": \"\", \"outcomeType\": 4}}, \"*\")"
      ],
      "text/plain": [
       "<IPython.core.display.Javascript object>"
      ]
     },
     "metadata": {},
     "output_type": "display_data"
    },
    {
     "data": {
      "text/markdown": [
       "<span style=\"color:#33cc99\">Solution:</span> \n",
       "```python\n",
       "\n",
       "X_5 = pd.DataFrame()\n",
       "\n",
       "X_5[\"MedNhbdArea\"] = df.groupby(\"Neighborhood\")[\"GrLivArea\"].transform(\"median\")\n",
       "\n",
       "```"
      ],
      "text/plain": [
       "Solution: \n",
       "```python\n",
       "\n",
       "X_5 = pd.DataFrame()\n",
       "\n",
       "X_5[\"MedNhbdArea\"] = df.groupby(\"Neighborhood\")[\"GrLivArea\"].transform(\"median\")\n",
       "\n",
       "```"
      ]
     },
     "metadata": {},
     "output_type": "display_data"
    }
   ],
   "source": [
    "# Lines below will give you a hint or solution code\n",
    "#q_5.hint()\n",
    "q_5.solution()"
   ]
  },
  {
   "cell_type": "markdown",
   "id": "397e6105",
   "metadata": {
    "papermill": {
     "duration": 0.005474,
     "end_time": "2022-07-07T16:40:47.536112",
     "exception": false,
     "start_time": "2022-07-07T16:40:47.530638",
     "status": "completed"
    },
    "tags": []
   },
   "source": [
    "Now you've made your first new feature set! If you like, you can run the cell below to score the model with all of your new features added:"
   ]
  },
  {
   "cell_type": "code",
   "execution_count": 13,
   "id": "7c0e4b3d",
   "metadata": {
    "execution": {
     "iopub.execute_input": "2022-07-07T16:40:47.549500Z",
     "iopub.status.busy": "2022-07-07T16:40:47.548853Z",
     "iopub.status.idle": "2022-07-07T16:40:52.144745Z",
     "shell.execute_reply": "2022-07-07T16:40:52.143635Z"
    },
    "papermill": {
     "duration": 4.605136,
     "end_time": "2022-07-07T16:40:52.146954",
     "exception": false,
     "start_time": "2022-07-07T16:40:47.541818",
     "status": "completed"
    },
    "tags": []
   },
   "outputs": [
    {
     "data": {
      "text/plain": [
       "0.13847331710099203"
      ]
     },
     "execution_count": 13,
     "metadata": {},
     "output_type": "execute_result"
    }
   ],
   "source": [
    "X_new = X.join([X_1, X_2, X_3, X_4, X_5])\n",
    "score_dataset(X_new, y)"
   ]
  },
  {
   "cell_type": "markdown",
   "id": "fef63850",
   "metadata": {
    "papermill": {
     "duration": 0.005741,
     "end_time": "2022-07-07T16:40:52.158573",
     "exception": false,
     "start_time": "2022-07-07T16:40:52.152832",
     "status": "completed"
    },
    "tags": []
   },
   "source": [
    "# Keep Going #\n",
    "\n",
    "[**Untangle spatial relationships**](https://www.kaggle.com/ryanholbrook/clustering-with-k-means) by adding cluster labels to your dataset."
   ]
  },
  {
   "cell_type": "markdown",
   "id": "c3558393",
   "metadata": {
    "papermill": {
     "duration": 0.00579,
     "end_time": "2022-07-07T16:40:52.170499",
     "exception": false,
     "start_time": "2022-07-07T16:40:52.164709",
     "status": "completed"
    },
    "tags": []
   },
   "source": [
    "---\n",
    "\n",
    "\n",
    "\n",
    "\n",
    "*Have questions or comments? Visit the [course discussion forum](https://www.kaggle.com/learn/feature-engineering/discussion) to chat with other learners.*"
   ]
  }
 ],
 "metadata": {
  "kernelspec": {
   "display_name": "Python 3",
   "language": "python",
   "name": "python3"
  },
  "language_info": {
   "codemirror_mode": {
    "name": "ipython",
    "version": 3
   },
   "file_extension": ".py",
   "mimetype": "text/x-python",
   "name": "python",
   "nbconvert_exporter": "python",
   "pygments_lexer": "ipython3",
   "version": "3.7.12"
  },
  "papermill": {
   "default_parameters": {},
   "duration": 16.076008,
   "end_time": "2022-07-07T16:40:52.897417",
   "environment_variables": {},
   "exception": null,
   "input_path": "__notebook__.ipynb",
   "output_path": "__notebook__.ipynb",
   "parameters": {},
   "start_time": "2022-07-07T16:40:36.821409",
   "version": "2.3.4"
  }
 },
 "nbformat": 4,
 "nbformat_minor": 5
}
